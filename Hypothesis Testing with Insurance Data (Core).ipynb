{
 "cells": [
  {
   "cell_type": "code",
   "execution_count": 29,
   "id": "aa2efe50",
   "metadata": {},
   "outputs": [],
   "source": [
    "import pandas as pd\n",
    "import numpy as np\n",
    "import matplotlib.pyplot as plt\n",
    "import seaborn as sns\n",
    "import scipy.stats as stats\n",
    "from statsmodels.stats.multicomp import pairwise_tukeyhsd"
   ]
  },
  {
   "cell_type": "code",
   "execution_count": 38,
   "id": "284d2875",
   "metadata": {},
   "outputs": [
    {
     "data": {
      "text/html": [
       "<div>\n",
       "<style scoped>\n",
       "    .dataframe tbody tr th:only-of-type {\n",
       "        vertical-align: middle;\n",
       "    }\n",
       "\n",
       "    .dataframe tbody tr th {\n",
       "        vertical-align: top;\n",
       "    }\n",
       "\n",
       "    .dataframe thead th {\n",
       "        text-align: right;\n",
       "    }\n",
       "</style>\n",
       "<table border=\"1\" class=\"dataframe\">\n",
       "  <thead>\n",
       "    <tr style=\"text-align: right;\">\n",
       "      <th></th>\n",
       "      <th>age</th>\n",
       "      <th>sex</th>\n",
       "      <th>bmi</th>\n",
       "      <th>children</th>\n",
       "      <th>smoker</th>\n",
       "      <th>region</th>\n",
       "      <th>charges</th>\n",
       "    </tr>\n",
       "  </thead>\n",
       "  <tbody>\n",
       "    <tr>\n",
       "      <th>0</th>\n",
       "      <td>19</td>\n",
       "      <td>female</td>\n",
       "      <td>27.900</td>\n",
       "      <td>0</td>\n",
       "      <td>yes</td>\n",
       "      <td>southwest</td>\n",
       "      <td>16884.92400</td>\n",
       "    </tr>\n",
       "    <tr>\n",
       "      <th>1</th>\n",
       "      <td>18</td>\n",
       "      <td>male</td>\n",
       "      <td>33.770</td>\n",
       "      <td>1</td>\n",
       "      <td>no</td>\n",
       "      <td>southeast</td>\n",
       "      <td>1725.55230</td>\n",
       "    </tr>\n",
       "    <tr>\n",
       "      <th>2</th>\n",
       "      <td>28</td>\n",
       "      <td>male</td>\n",
       "      <td>33.000</td>\n",
       "      <td>3</td>\n",
       "      <td>no</td>\n",
       "      <td>southeast</td>\n",
       "      <td>4449.46200</td>\n",
       "    </tr>\n",
       "    <tr>\n",
       "      <th>3</th>\n",
       "      <td>33</td>\n",
       "      <td>male</td>\n",
       "      <td>22.705</td>\n",
       "      <td>0</td>\n",
       "      <td>no</td>\n",
       "      <td>northwest</td>\n",
       "      <td>21984.47061</td>\n",
       "    </tr>\n",
       "    <tr>\n",
       "      <th>4</th>\n",
       "      <td>32</td>\n",
       "      <td>male</td>\n",
       "      <td>28.880</td>\n",
       "      <td>0</td>\n",
       "      <td>no</td>\n",
       "      <td>northwest</td>\n",
       "      <td>3866.85520</td>\n",
       "    </tr>\n",
       "  </tbody>\n",
       "</table>\n",
       "</div>"
      ],
      "text/plain": [
       "   age     sex     bmi  children smoker     region      charges\n",
       "0   19  female  27.900         0    yes  southwest  16884.92400\n",
       "1   18    male  33.770         1     no  southeast   1725.55230\n",
       "2   28    male  33.000         3     no  southeast   4449.46200\n",
       "3   33    male  22.705         0     no  northwest  21984.47061\n",
       "4   32    male  28.880         0     no  northwest   3866.85520"
      ]
     },
     "execution_count": 38,
     "metadata": {},
     "output_type": "execute_result"
    }
   ],
   "source": [
    "filename = 'Data/insurance.csv'\n",
    "df = pd.read_csv(filename)\n",
    "df.head()"
   ]
  },
  {
   "cell_type": "markdown",
   "id": "727a56e6",
   "metadata": {},
   "source": [
    "## Q1 - Do smokers have higher insurance charges than non-smokers?"
   ]
  },
  {
   "cell_type": "code",
   "execution_count": 34,
   "id": "30dd1e48",
   "metadata": {},
   "outputs": [
    {
     "data": {
      "image/png": "[encoded data removed]",
      "text/plain": [
       "<Figure size 640x480 with 1 Axes>"
      ]
     },
     "metadata": {},
     "output_type": "display_data"
    }
   ],
   "source": [
    "sns.barplot(data = df, x = 'smoker', y = 'charges');"
   ]
  },
  {
   "cell_type": "markdown",
   "id": "5f20d263",
   "metadata": {},
   "source": [
    "null hypothesis: smokers do not have higher insurance charges than non-smokers.\n",
    "\n",
    "alternate hypothesis: smokers have higher insurance charges than non-smokers."
   ]
  },
  {
   "cell_type": "markdown",
   "id": "966dc33f",
   "metadata": {},
   "source": [
    "Test to use: t test"
   ]
  },
  {
   "cell_type": "markdown",
   "id": "a763b2f3",
   "metadata": {},
   "source": [
    "Assumptions:\n",
    "- normal distribution\n",
    "- equal variance\n",
    "-no outliers"
   ]
  },
  {
   "cell_type": "code",
   "execution_count": 3,
   "id": "16dd2a15",
   "metadata": {},
   "outputs": [],
   "source": [
    "smokes = df.loc[ df['smoker'] == 'yes'].copy()\n",
    "no_smokes = df.loc[ df['smoker'] == 'no'].copy()\n",
    "\n",
    "smoker_charges = smokes['charges']\n",
    "non_smoker_charges = no_smokes['charges']"
   ]
  },
  {
   "cell_type": "markdown",
   "id": "ec930635",
   "metadata": {},
   "source": [
    "smoker charges and non-smoker charges are normally distributed."
   ]
  },
  {
   "cell_type": "code",
   "execution_count": 4,
   "id": "52c13798",
   "metadata": {},
   "outputs": [
    {
     "name": "stdout",
     "output_type": "stream",
     "text": [
      "The normal test result for smoker charges is NormaltestResult(statistic=61.03941356533816, pvalue=5.564930630036463e-14).\n",
      "\n",
      "The normal test result for non smoker charges is NormaltestResult(statistic=316.4528082392722, pvalue=1.9193129759002216e-69).\n"
     ]
    }
   ],
   "source": [
    "print(f'The normal test result for smoker charges is {stats.normaltest(smoker_charges)}.\\n')\n",
    "print(f'The normal test result for non smoker charges is {stats.normaltest(non_smoker_charges)}.')"
   ]
  },
  {
   "cell_type": "code",
   "execution_count": 5,
   "id": "a4e10835",
   "metadata": {},
   "outputs": [
    {
     "name": "stdout",
     "output_type": "stream",
     "text": [
      "there are 0 outliers in smoker charges.\n",
      "\n",
      " there are 24 outliers in non smoker charges\n"
     ]
    }
   ],
   "source": [
    "zscore_smoker_charges = stats.zscore(smoker_charges)\n",
    "zscore_non_smoker_charges = stats.zscore(non_smoker_charges)\n",
    "\n",
    "outliers_smoker_charges = abs(zscore_smoker_charges) > 3\n",
    "outliers_non_smoker_charges = abs(zscore_non_smoker_charges) > 3\n",
    "\n",
    "print(f'there are {np.sum(outliers_smoker_charges)} outliers in smoker charges.\\n')\n",
    "print(f' there are {np.sum(outliers_non_smoker_charges)} outliers in non smoker charges')"
   ]
  },
  {
   "cell_type": "code",
   "execution_count": 6,
   "id": "c9130451",
   "metadata": {},
   "outputs": [
    {
     "data": {
      "text/plain": [
       "274"
      ]
     },
     "execution_count": 6,
     "metadata": {},
     "output_type": "execute_result"
    }
   ],
   "source": [
    "len(smoker_charges)"
   ]
  },
  {
   "cell_type": "code",
   "execution_count": 7,
   "id": "992aadb3",
   "metadata": {},
   "outputs": [
    {
     "data": {
      "text/plain": [
       "1064"
      ]
     },
     "execution_count": 7,
     "metadata": {},
     "output_type": "execute_result"
    }
   ],
   "source": [
    "len(non_smoker_charges)"
   ]
  },
  {
   "cell_type": "code",
   "execution_count": 8,
   "id": "52e47e08",
   "metadata": {},
   "outputs": [],
   "source": [
    "non_smoker_charges = non_smoker_charges[(np.abs(stats.zscore(non_smoker_charges)) < 3)]"
   ]
  },
  {
   "cell_type": "code",
   "execution_count": 9,
   "id": "c392f43b",
   "metadata": {},
   "outputs": [],
   "source": [
    "zscore_non_smoker_charges = stats.zscore(non_smoker_charges)\n",
    "outliers_non_smoker_charges = abs(zscore_non_smoker_charges) > 3"
   ]
  },
  {
   "cell_type": "code",
   "execution_count": 10,
   "id": "2f2ac311",
   "metadata": {},
   "outputs": [
    {
     "data": {
      "text/plain": [
       "1040"
      ]
     },
     "execution_count": 10,
     "metadata": {},
     "output_type": "execute_result"
    }
   ],
   "source": [
    "len(non_smoker_charges)"
   ]
  },
  {
   "cell_type": "code",
   "execution_count": 11,
   "id": "d0afa04d",
   "metadata": {},
   "outputs": [
    {
     "data": {
      "text/plain": [
       "LeveneResult(statistic=520.7468821724297, pvalue=2.4247238784347824e-97)"
      ]
     },
     "execution_count": 11,
     "metadata": {},
     "output_type": "execute_result"
    }
   ],
   "source": [
    "equal_variance = stats.levene(smoker_charges, non_smoker_charges)\n",
    "equal_variance"
   ]
  },
  {
   "cell_type": "markdown",
   "id": "0bba201b",
   "metadata": {},
   "source": [
    "Executing the test"
   ]
  },
  {
   "cell_type": "code",
   "execution_count": 12,
   "id": "a654ea5d",
   "metadata": {},
   "outputs": [
    {
     "data": {
      "text/plain": [
       "Ttest_indResult(statistic=51.2078044173717, pvalue=3.68768124e-315)"
      ]
     },
     "execution_count": 12,
     "metadata": {},
     "output_type": "execute_result"
    }
   ],
   "source": [
    "t_test = stats.ttest_ind(smoker_charges, non_smoker_charges)\n",
    "t_test"
   ]
  },
  {
   "cell_type": "markdown",
   "id": "b12fa340",
   "metadata": {},
   "source": [
    "p-value = 3.68768124e-315\n",
    "\n",
    "alpha = 0.05\n",
    "\n",
    "p-value < alpha, so reject the null hypothesis. Smokers have higher insurance charges than non-smokers."
   ]
  },
  {
   "cell_type": "code",
   "execution_count": null,
   "id": "ac6557dc",
   "metadata": {},
   "outputs": [],
   "source": []
  },
  {
   "cell_type": "markdown",
   "id": "01450173",
   "metadata": {},
   "source": [
    "## Q2 - Are men more likely to smoke than women?"
   ]
  },
  {
   "cell_type": "code",
   "execution_count": 54,
   "id": "bf1b6e9e",
   "metadata": {},
   "outputs": [],
   "source": [
    "gen_smokes = smokes['sex']\n",
    "smoker_sex = gen_smokes.value_counts()"
   ]
  },
  {
   "cell_type": "code",
   "execution_count": 63,
   "id": "b388d24c",
   "metadata": {},
   "outputs": [
    {
     "data": {
      "image/png": "[encoded data removed]",
      "text/plain": [
       "<Figure size 640x480 with 1 Axes>"
      ]
     },
     "metadata": {},
     "output_type": "display_data"
    }
   ],
   "source": [
    "smoker_sex.plot(kind = 'bar', color = ['blue', 'red'])\n",
    "plt.title('Smokers by Sex')\n",
    "plt.ylabel('Smoker Count')\n",
    "plt.xlabel('Sex');"
   ]
  },
  {
   "cell_type": "markdown",
   "id": "b2b48316",
   "metadata": {},
   "source": [
    "binomial - Chi - squared"
   ]
  },
  {
   "cell_type": "code",
   "execution_count": 19,
   "id": "a7108d9e",
   "metadata": {},
   "outputs": [],
   "source": [
    "table = pd.crosstab(df['sex'], df['smoker'])\n",
    "result = stats.chi2_contingency(table)\n",
    "chi2, p, deg_free, expected_vals = result"
   ]
  },
  {
   "cell_type": "code",
   "execution_count": 20,
   "id": "aa95247b",
   "metadata": {},
   "outputs": [
    {
     "name": "stdout",
     "output_type": "stream",
     "text": [
      "0.006548143503580696\n"
     ]
    },
    {
     "data": {
      "text/plain": [
       "True"
      ]
     },
     "execution_count": 20,
     "metadata": {},
     "output_type": "execute_result"
    }
   ],
   "source": [
    "print(p)\n",
    "p<0.05"
   ]
  },
  {
   "cell_type": "markdown",
   "id": "d4ee3dbf",
   "metadata": {},
   "source": [
    "Since the p-value is less than alpha, reject the null hypothesis.\n",
    "\n",
    "We can conclude that men are more likely to smoke than women."
   ]
  },
  {
   "cell_type": "markdown",
   "id": "fab3020f",
   "metadata": {},
   "source": [
    "## Q3 - Do different regions have different charges, on average?"
   ]
  },
  {
   "cell_type": "code",
   "execution_count": 33,
   "id": "6850f29b",
   "metadata": {},
   "outputs": [
    {
     "data": {
      "image/png": "[encoded data removed]",
      "text/plain": [
       "<Figure size 640x480 with 1 Axes>"
      ]
     },
     "metadata": {},
     "output_type": "display_data"
    }
   ],
   "source": [
    "sns.barplot(data = df, x = 'region', y = 'charges');"
   ]
  },
  {
   "cell_type": "markdown",
   "id": "4b9ee386",
   "metadata": {},
   "source": [
    "testing assumptions"
   ]
  },
  {
   "cell_type": "code",
   "execution_count": 23,
   "id": "d082cdab",
   "metadata": {},
   "outputs": [
    {
     "data": {
      "text/plain": [
       "dict_keys(['southwest', 'southeast', 'northwest', 'northeast'])"
      ]
     },
     "execution_count": 23,
     "metadata": {},
     "output_type": "execute_result"
    }
   ],
   "source": [
    "groups = {}\n",
    "\n",
    "for i in df['region'].unique():\n",
    "    \n",
    "    data = df.loc[df['region'] == i, 'charges'].copy()\n",
    "    \n",
    "    groups[i] = data\n",
    "\n",
    "groups.keys()"
   ]
  },
  {
   "cell_type": "code",
   "execution_count": 25,
   "id": "0decb579",
   "metadata": {},
   "outputs": [
    {
     "data": {
      "text/html": [
       "<div>\n",
       "<style scoped>\n",
       "    .dataframe tbody tr th:only-of-type {\n",
       "        vertical-align: middle;\n",
       "    }\n",
       "\n",
       "    .dataframe tbody tr th {\n",
       "        vertical-align: top;\n",
       "    }\n",
       "\n",
       "    .dataframe thead th {\n",
       "        text-align: right;\n",
       "    }\n",
       "</style>\n",
       "<table border=\"1\" class=\"dataframe\">\n",
       "  <thead>\n",
       "    <tr style=\"text-align: right;\">\n",
       "      <th></th>\n",
       "      <th>n</th>\n",
       "      <th>p</th>\n",
       "      <th>test stat</th>\n",
       "      <th>sig</th>\n",
       "    </tr>\n",
       "  </thead>\n",
       "  <tbody>\n",
       "    <tr>\n",
       "      <th>southwest</th>\n",
       "      <td>325.0</td>\n",
       "      <td>6.125298e-23</td>\n",
       "      <td>102.294059</td>\n",
       "      <td>True</td>\n",
       "    </tr>\n",
       "    <tr>\n",
       "      <th>southeast</th>\n",
       "      <td>364.0</td>\n",
       "      <td>4.953297e-15</td>\n",
       "      <td>65.877446</td>\n",
       "      <td>True</td>\n",
       "    </tr>\n",
       "    <tr>\n",
       "      <th>northwest</th>\n",
       "      <td>325.0</td>\n",
       "      <td>5.184209e-24</td>\n",
       "      <td>107.232850</td>\n",
       "      <td>True</td>\n",
       "    </tr>\n",
       "    <tr>\n",
       "      <th>northeast</th>\n",
       "      <td>324.0</td>\n",
       "      <td>1.455431e-19</td>\n",
       "      <td>86.747629</td>\n",
       "      <td>True</td>\n",
       "    </tr>\n",
       "  </tbody>\n",
       "</table>\n",
       "</div>"
      ],
      "text/plain": [
       "               n             p   test stat   sig\n",
       "southwest  325.0  6.125298e-23  102.294059  True\n",
       "southeast  364.0  4.953297e-15   65.877446  True\n",
       "northwest  325.0  5.184209e-24  107.232850  True\n",
       "northeast  324.0  1.455431e-19   86.747629  True"
      ]
     },
     "execution_count": 25,
     "metadata": {},
     "output_type": "execute_result"
    }
   ],
   "source": [
    "norm_results = {}\n",
    "\n",
    "for i, data in groups.items():\n",
    "    \n",
    "    stat, p = stats.normaltest(data)\n",
    "    \n",
    "    norm_results[i] = {'n': len(data),\n",
    "                      'p': p,\n",
    "                      'test stat': stat,}\n",
    "    \n",
    "norm_results_df = pd.DataFrame(norm_results).T\n",
    "norm_results_df['sig'] = norm_results_df['p'] < 0.05\n",
    "norm_results_df"
   ]
  },
  {
   "cell_type": "code",
   "execution_count": 27,
   "id": "e37d1edc",
   "metadata": {},
   "outputs": [
    {
     "data": {
      "text/plain": [
       "LeveneResult(statistic=5.559966758410606, pvalue=0.0008610590250786703)"
      ]
     },
     "execution_count": 27,
     "metadata": {},
     "output_type": "execute_result"
    }
   ],
   "source": [
    "stats.levene(*groups.values())"
   ]
  },
  {
   "cell_type": "markdown",
   "id": "ce1f9a7d",
   "metadata": {},
   "source": [
    "ANOVA test"
   ]
  },
  {
   "cell_type": "code",
   "execution_count": 28,
   "id": "ad5953e3",
   "metadata": {},
   "outputs": [
    {
     "data": {
      "text/plain": [
       "F_onewayResult(statistic=2.96962669358912, pvalue=0.0308933560705201)"
      ]
     },
     "execution_count": 28,
     "metadata": {},
     "output_type": "execute_result"
    }
   ],
   "source": [
    "result = stats.f_oneway( *groups.values())\n",
    "result"
   ]
  },
  {
   "cell_type": "code",
   "execution_count": 30,
   "id": "7139743b",
   "metadata": {},
   "outputs": [],
   "source": [
    "values = df['charges']\n",
    "labels = df['region']"
   ]
  },
  {
   "cell_type": "code",
   "execution_count": 31,
   "id": "91ca1f6e",
   "metadata": {},
   "outputs": [
    {
     "data": {
      "text/html": [
       "<table class=\"simpletable\">\n",
       "<caption>Multiple Comparison of Means - Tukey HSD, FWER=0.05</caption>\n",
       "<tr>\n",
       "   <th>group1</th>    <th>group2</th>    <th>meandiff</th>   <th>p-adj</th>    <th>lower</th>     <th>upper</th>   <th>reject</th>\n",
       "</tr>\n",
       "<tr>\n",
       "  <td>northeast</td> <td>northwest</td>  <td>-988.8091</td> <td>0.7245</td> <td>-3428.9343</td> <td>1451.3161</td>  <td>False</td>\n",
       "</tr>\n",
       "<tr>\n",
       "  <td>northeast</td> <td>southeast</td>  <td>1329.0269</td> <td>0.4745</td> <td>-1044.9417</td> <td>3702.9955</td>  <td>False</td>\n",
       "</tr>\n",
       "<tr>\n",
       "  <td>northeast</td> <td>southwest</td> <td>-1059.4471</td> <td>0.6792</td> <td>-3499.5723</td> <td>1380.6781</td>  <td>False</td>\n",
       "</tr>\n",
       "<tr>\n",
       "  <td>northwest</td> <td>southeast</td>  <td>2317.8361</td> <td>0.0583</td>  <td>-54.1994</td>  <td>4689.8716</td>  <td>False</td>\n",
       "</tr>\n",
       "<tr>\n",
       "  <td>northwest</td> <td>southwest</td>   <td>-70.638</td>  <td>0.9999</td> <td>-2508.8826</td> <td>2367.6066</td>  <td>False</td>\n",
       "</tr>\n",
       "<tr>\n",
       "  <td>southeast</td> <td>southwest</td> <td>-2388.4741</td> <td>0.0477</td> <td>-4760.5096</td> <td>-16.4386</td>   <td>True</td> \n",
       "</tr>\n",
       "</table>"
      ],
      "text/plain": [
       "<class 'statsmodels.iolib.table.SimpleTable'>"
      ]
     },
     "execution_count": 31,
     "metadata": {},
     "output_type": "execute_result"
    }
   ],
   "source": [
    "tukeys_results = pairwise_tukeyhsd(values, labels)\n",
    "tukeys_results.summary()"
   ]
  },
  {
   "cell_type": "markdown",
   "id": "be5ab989",
   "metadata": {},
   "source": [
    "The southeast and the southwest have different charges."
   ]
  },
  {
   "cell_type": "code",
   "execution_count": null,
   "id": "14523f0b",
   "metadata": {},
   "outputs": [],
   "source": []
  }
 ],
 "metadata": {
  "kernelspec": {
   "display_name": "Python (dojo-env)",
   "language": "python",
   "name": "dojo-env"
  },
  "language_info": {
   "codemirror_mode": {
    "name": "ipython",
    "version": 3
   },
   "file_extension": ".py",
   "mimetype": "text/x-python",
   "name": "python",
   "nbconvert_exporter": "python",
   "pygments_lexer": "ipython3",
   "version": "3.9.15"
  },
  "toc": {
   "base_numbering": 1,
   "nav_menu": {},
   "number_sections": false,
   "sideBar": true,
   "skip_h1_title": false,
   "title_cell": "Table of Contents",
   "title_sidebar": "Contents",
   "toc_cell": false,
   "toc_position": {},
   "toc_section_display": true,
   "toc_window_display": false
  }
 },
 "nbformat": 4,
 "nbformat_minor": 5
}
